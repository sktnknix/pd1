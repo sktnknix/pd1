{
 "cells": [
  {
   "cell_type": "code",
   "execution_count": 2,
   "metadata": {},
   "outputs": [],
   "source": [
    "import pandas as pd"
   ]
  },
  {
   "cell_type": "code",
   "execution_count": 3,
   "metadata": {},
   "outputs": [],
   "source": [
    "dir_p = 'names/'"
   ]
  },
  {
   "cell_type": "code",
   "execution_count": 4,
   "metadata": {},
   "outputs": [
    {
     "name": "stdout",
     "output_type": "stream",
     "text": [
      "          name sex  quantity\n",
      "16160  Michael   M     37548\n",
      "16161    Jacob   M     34151\n",
      "16162  Matthew   M     31513\n"
     ]
    }
   ],
   "source": [
    "def top_names(years):\n",
    "    years_df_list = []\n",
    "    for index, year in enumerate(years):\n",
    "        years_df_list.append(pd.read_csv(dir_p+'yob'+year+'.txt', names=('name', 'sex', 'quantity')))\n",
    "    union_df = pd.concat(years_df_list)\n",
    "    top_three = union_df.sort_values(by='quantity', ascending=False).head(3)\n",
    "    print(top_three)\n",
    "top_names(['1997', '2003', '2010'])"
   ]
  },
  {
   "cell_type": "code",
   "execution_count": 5,
   "metadata": {},
   "outputs": [
    {
     "name": "stdout",
     "output_type": "stream",
     "text": [
      "{'F': [17653, 19811, 18309], 'M': [12116, 14256, 14160]}\n"
     ]
    }
   ],
   "source": [
    "def dynamics(years):\n",
    "    result = {'F': [], 'M': []}\n",
    "    for year in years:\n",
    "        df = pd.read_csv(dir_p+'yob'+str(year)+'.txt', names=('name', 'sex', 'quantity'))\n",
    "        result['F'].append(df['sex'].value_counts()['F'])\n",
    "        result['M'].append(df['sex'].value_counts()['M'])\n",
    "    print(result)\n",
    "dynamics([2000, 2010, 2017])"
   ]
  },
  {
   "cell_type": "code",
   "execution_count": null,
   "metadata": {},
   "outputs": [],
   "source": []
  }
 ],
 "metadata": {
  "kernelspec": {
   "display_name": "Python 3",
   "language": "python",
   "name": "python3"
  },
  "language_info": {
   "codemirror_mode": {
    "name": "ipython",
    "version": 3
   },
   "file_extension": ".py",
   "mimetype": "text/x-python",
   "name": "python",
   "nbconvert_exporter": "python",
   "pygments_lexer": "ipython3",
   "version": "3.7.1"
  }
 },
 "nbformat": 4,
 "nbformat_minor": 2
}
